{
  "nbformat": 4,
  "nbformat_minor": 0,
  "metadata": {
    "colab": {
      "name": "The idea of the project.ipynb",
      "provenance": [],
      "collapsed_sections": []
    },
    "kernelspec": {
      "name": "python3",
      "display_name": "Python 3"
    }
  },
  "cells": [
    {
      "cell_type": "markdown",
      "metadata": {
        "id": "2gKZxTZhsEYG"
      },
      "source": [
        "# **Capstone Project - The Battle of Neighborhoods**"
      ]
    },
    {
      "cell_type": "markdown",
      "metadata": {
        "id": "7x-N3JdqsPKH"
      },
      "source": [
        "## restaurants segmentation in Dubai city"
      ]
    },
    {
      "cell_type": "markdown",
      "metadata": {
        "id": "Cex37GfHD_Rl"
      },
      "source": [
        "### An **introduction** to the idea of ​​the project aimed at giving a clear picture to those wishing to start a business in **Dubai**"
      ]
    },
    {
      "cell_type": "markdown",
      "metadata": {
        "id": "50vyDUoltWh_"
      },
      "source": [
        "#### Considering that Dubai is one of the most intended places to start a business (for example, a restaurant, hotel, coffee shop ... etc.), the purpose of this project will be to explain to business owners the most popular and most desired places and their locations on the map. With an explanation of the best places (for example, the top 10 restaurants) similar to their commercial project and their locations with a set of maps showing all of the above.\n",
        "#### We will use Foursquare API to get all the information about the venues that we will be targeting in this project\n",
        "\n"
      ]
    }
  ]
}