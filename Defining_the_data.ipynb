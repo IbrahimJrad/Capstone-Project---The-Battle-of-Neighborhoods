{
  "nbformat": 4,
  "nbformat_minor": 0,
  "metadata": {
    "colab": {
      "name": "Defining the data.ipynb",
      "provenance": [],
      "collapsed_sections": []
    },
    "kernelspec": {
      "name": "python3",
      "display_name": "Python 3"
    }
  },
  "cells": [
    {
      "cell_type": "markdown",
      "metadata": {
        "id": "KVOhYhw9Dv9O"
      },
      "source": [
        "# **Capstone Project - The Battle of Neighborhoods**"
      ]
    },
    {
      "cell_type": "markdown",
      "metadata": {
        "id": "f9wqqACaD2yv"
      },
      "source": [
        "## Define the data that we will use in our project idea"
      ]
    },
    {
      "cell_type": "markdown",
      "metadata": {
        "id": "vjRuvbsYFkjJ"
      },
      "source": [
        "### For the locations and the names of the venuses in Dubai we will use a dataset I've found it on Kaggle website.\n",
        "### This dataset has four columns.\n",
        "\n",
        "\n",
        "1.   'Community Number' contains the community number for each community.\n",
        "2.   'Community' contains the community name.\n",
        "3.   'Area(km2)' contains the community area in square kilometers\n",
        "4.   'Population(2000)' contains the population of the community since the year 2000\n",
        "\n",
        "\n"
      ]
    },
    {
      "cell_type": "markdown",
      "metadata": {
        "id": "5RuJRSJHLz7P"
      },
      "source": [
        "### We will use Foursquare API to obtain the required information about the targeted places in the city, and we will use it with the previously mentioned database in order to start analyzing all the data and extract the results required of us and visualization them.\n",
        "### **For example**, we will analyze the first community that we have in the database by extracting its coordinates and extracting information from the Foursquare API for restaurants and hotels and then displaying the results on the map and repeating the process for all of our existing communities"
      ]
    }
  ]
}